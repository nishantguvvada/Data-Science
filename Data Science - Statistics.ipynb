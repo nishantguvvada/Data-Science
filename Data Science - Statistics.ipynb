{
 "cells": [
  {
   "cell_type": "markdown",
   "id": "fb49c4cd",
   "metadata": {},
   "source": [
    "# Data Science - Statistics"
   ]
  },
  {
   "cell_type": "markdown",
   "id": "b5d6cdf4",
   "metadata": {},
   "source": [
    "**We use statistics to distill and communicate relevant features of our data.**\n",
    "\n",
    "## Describing a single set of data\n",
    "\n",
    "One obvious description of any data set is simply the data itself:\n",
    "\n",
    "Example: num_friends = [100, 49, 41, 40, 25]"
   ]
  },
  {
   "cell_type": "code",
   "execution_count": 19,
   "id": "bbfa3989",
   "metadata": {},
   "outputs": [
    {
     "name": "stdout",
     "output_type": "stream",
     "text": [
      "[1, 95, 53, 46, 33, 45, 43, 38, 56, 16, 54, 10, 47, 26, 46, 80, 17, 49, 34, 52, 17, 55, 43, 55, 55, 43, 15, 48, 50, 54, 28, 60, 28, 46, 69, 70, 63, 21, 50, 21, 57, 56, 24, 34, 44, 62, 60, 28, 21, 59, 41, 52, 79, 45, 27, 60, 59, 59, 30, 32, 88, 1, 17, 34, 48, 42, 46, 31, 69, 55, 24, 32, 55, 61, 58, 55, 33, 53, 29, 72, 25, 28, 57, 54, 44, 36, 41, 60, 53, 68, 26, 56, 37, 32, 59, 72, 62, 59, 37, 100]\n"
     ]
    }
   ],
   "source": [
    "num_friends = [1, 95, 53, 46, 33, 45, 43, 38, 56, 16, 54, 10, 47, 26, 46, 80, 17, 49, 34, 52,\n",
    " 17, 55, 43, 55, 55, 43, 15, 48, 50, 54, 28, 60, 28, 46, 69, 70, 63, 21, 50, 21,\n",
    " 57, 56, 24, 34, 44, 62, 60, 28, 21, 59, 41, 52, 79, 45, 27, 60, 59, 59, 30, 32,\n",
    " 88, 1, 17, 34, 48, 42, 46, 31, 69, 55, 24, 32, 55, 61, 58, 55, 33, 53, 29, 72,\n",
    " 25, 28, 57, 54, 44, 36, 41, 60, 53, 68, 26, 56, 37, 32, 59, 72, 62, 59, 37, 100]\n",
    "\n",
    "print(num_friends)"
   ]
  },
  {
   "cell_type": "code",
   "execution_count": 20,
   "id": "26c364b0",
   "metadata": {},
   "outputs": [
    {
     "name": "stdout",
     "output_type": "stream",
     "text": [
      "Counter({55: 6, 59: 5, 46: 4, 28: 4, 60: 4, 53: 3, 43: 3, 56: 3, 54: 3, 17: 3, 34: 3, 21: 3, 32: 3, 1: 2, 33: 2, 45: 2, 26: 2, 52: 2, 48: 2, 50: 2, 69: 2, 57: 2, 24: 2, 44: 2, 62: 2, 41: 2, 72: 2, 37: 2, 95: 1, 38: 1, 16: 1, 10: 1, 47: 1, 80: 1, 49: 1, 15: 1, 70: 1, 63: 1, 79: 1, 27: 1, 30: 1, 88: 1, 42: 1, 31: 1, 61: 1, 58: 1, 29: 1, 25: 1, 36: 1, 68: 1, 100: 1})\n"
     ]
    }
   ],
   "source": [
    "from collections import Counter\n",
    "\n",
    "friend_counts = Counter(num_friends)\n",
    "\n",
    "print(friend_counts)"
   ]
  },
  {
   "cell_type": "code",
   "execution_count": 21,
   "id": "d574ab53",
   "metadata": {},
   "outputs": [
    {
     "data": {
      "image/png": "[encoded data removed]",
      "text/plain": [
       "<Figure size 640x480 with 1 Axes>"
      ]
     },
     "metadata": {},
     "output_type": "display_data"
    }
   ],
   "source": [
    "xs = range(101) # 0 to 100\n",
    "ys = [friend_counts[x] for x in xs]\n",
    "\n",
    "import matplotlib.pyplot as plt\n",
    "\n",
    "plt.bar(xs, ys)\n",
    "plt.axis([0,101, 0, 7])\n",
    "plt.title(\"Histogram of Friend Counts\")\n",
    "plt.xlabel(\"# of friends\")\n",
    "plt.ylabel(\"# of people\")\n",
    "plt.show()"
   ]
  },
  {
   "cell_type": "markdown",
   "id": "b4005d51",
   "metadata": {},
   "source": [
    "The chart is too difficult to interpret. Therefore, we can turn to the simplest statistics such as the number of data points, largest and smallest values."
   ]
  },
  {
   "cell_type": "code",
   "execution_count": 22,
   "id": "06d0d434",
   "metadata": {},
   "outputs": [
    {
     "name": "stdout",
     "output_type": "stream",
     "text": [
      "# of data points:  100\n",
      "largest value:  100\n",
      "smallest value:  1\n"
     ]
    }
   ],
   "source": [
    "num_points = len(num_friends)\n",
    "largest_value = max(num_friends)\n",
    "smallest_value = min(num_friends)\n",
    "print(\"# of data points: \", num_points)\n",
    "print(\"largest value: \", largest_value)\n",
    "print(\"smallest value: \", smallest_value)"
   ]
  },
  {
   "cell_type": "markdown",
   "id": "fe674bdb",
   "metadata": {},
   "source": [
    "## Central Tendencies\n",
    "\n",
    "To understand the notion of where the data is centered, we use mean."
   ]
  },
  {
   "cell_type": "code",
   "execution_count": 23,
   "id": "923173ce",
   "metadata": {},
   "outputs": [
    {
     "data": {
      "text/plain": [
       "45.7"
      ]
     },
     "execution_count": 23,
     "metadata": {},
     "output_type": "execute_result"
    }
   ],
   "source": [
    "def mean(x):\n",
    "    return sum(x) / len(x)\n",
    "\n",
    "mean(num_friends)"
   ]
  },
  {
   "cell_type": "markdown",
   "id": "bb2b8959",
   "metadata": {},
   "source": [
    "**As you add more points, the mean shifts around, but it always depends on the value of every point.**\n",
    "\n",
    "Median : middle-most value (if the number of data points is odd) or average of the two middle-most values (if the number of data points is even)\n",
    "\n",
    "The median doesn’t depend on every value in your data. For example, if you make the largest point larger (or the smallest point smaller), the middle points remain unchanged, which means so does the median."
   ]
  },
  {
   "cell_type": "code",
   "execution_count": 24,
   "id": "3be91045",
   "metadata": {},
   "outputs": [
    {
     "data": {
      "text/plain": [
       "47"
      ]
     },
     "execution_count": 24,
     "metadata": {},
     "output_type": "execute_result"
    }
   ],
   "source": [
    "def median(v):\n",
    "    n = len(v)\n",
    "    sorted_v = sorted(v)\n",
    "    midpoint = n // 2\n",
    "    \n",
    "    if n % 2 == 0:\n",
    "        return sorted_v[midpoint]\n",
    "    else:\n",
    "        return (sorted_v[midpoint-1]+sorted_v[midpoint]) /2\n",
    "    \n",
    "median(num_friends)"
   ]
  },
  {
   "cell_type": "markdown",
   "id": "7a84fe79",
   "metadata": {},
   "source": [
    "**The mean is very sensitive to outliers in our data. If our friendliest user had 200 friends (instead of 100), then the mean would rise, while the median would stay the same.**\n",
    "\n",
    "A generalization of the median is the quantile, which represents the value less than which a certain percentile of the data lies. Median represents the value less than which 50% of the data lies."
   ]
  },
  {
   "cell_type": "code",
   "execution_count": 26,
   "id": "96dd753e",
   "metadata": {},
   "outputs": [
    {
     "data": {
      "text/plain": [
       "47"
      ]
     },
     "execution_count": 26,
     "metadata": {},
     "output_type": "execute_result"
    }
   ],
   "source": [
    "def quantile(x, p):\n",
    "    p_index = int(p * len(x))\n",
    "    return sorted(x)[p_index]\n",
    "\n",
    "quantile(num_friends, 0.50)"
   ]
  },
  {
   "cell_type": "markdown",
   "id": "56126551",
   "metadata": {},
   "source": [
    "Mode is the most common value"
   ]
  },
  {
   "cell_type": "code",
   "execution_count": 27,
   "id": "a5ecf12b",
   "metadata": {},
   "outputs": [
    {
     "data": {
      "text/plain": [
       "[55]"
      ]
     },
     "execution_count": 27,
     "metadata": {},
     "output_type": "execute_result"
    }
   ],
   "source": [
    "def mode(x):\n",
    "    counts = Counter(x)\n",
    "    max_count = max(counts.values())\n",
    "    return [x_i for x_i, count in counts.items() if count == max_count]\n",
    "\n",
    "mode(num_friends)"
   ]
  },
  {
   "cell_type": "markdown",
   "id": "31f66e48",
   "metadata": {},
   "source": [
    "## Dispersion\n",
    "\n",
    "Dispersion refers to measures of how spread out the data is. Values near zero signifies not spread out and large values signify very spread out.\n",
    "\n",
    "Range is one of the measure of dispersion which is difference between the largest and the smallest elements."
   ]
  },
  {
   "cell_type": "code",
   "execution_count": 28,
   "id": "0451aa1a",
   "metadata": {},
   "outputs": [
    {
     "data": {
      "text/plain": [
       "99"
      ]
     },
     "execution_count": 28,
     "metadata": {},
     "output_type": "execute_result"
    }
   ],
   "source": [
    "def data_range(x):\n",
    "    return max(x) - min(x)\n",
    "\n",
    "data_range(num_friends)"
   ]
  },
  {
   "cell_type": "markdown",
   "id": "55dc0128",
   "metadata": {},
   "source": [
    "**Like the median, the range doesn’t really depend on the whole data set. A data set whose points are all either 0 or 100 has the same range as a data set whose values are 0, 100, and lots of 50s.**\n",
    "\n",
    "A more complex measure of dispersion is the variance."
   ]
  },
  {
   "cell_type": "code",
   "execution_count": 29,
   "id": "e626eaf2",
   "metadata": {},
   "outputs": [
    {
     "name": "stdout",
     "output_type": "stream",
     "text": [
      "The mean is:  45.7\n",
      "[-44.7, -44.7, -35.7, -30.700000000000003, -29.700000000000003, -28.700000000000003, -28.700000000000003, -28.700000000000003, -24.700000000000003, -24.700000000000003, -24.700000000000003, -21.700000000000003, -21.700000000000003, -20.700000000000003, -19.700000000000003, -19.700000000000003, -18.700000000000003, -17.700000000000003, -17.700000000000003, -17.700000000000003, -17.700000000000003, -16.700000000000003, -15.700000000000003, -14.700000000000003, -13.700000000000003, -13.700000000000003, -13.700000000000003, -12.700000000000003, -12.700000000000003, -11.700000000000003, -11.700000000000003, -11.700000000000003, -9.700000000000003, -8.700000000000003, -8.700000000000003, -7.700000000000003, -4.700000000000003, -4.700000000000003, -3.700000000000003, -2.700000000000003, -2.700000000000003, -2.700000000000003, -1.7000000000000028, -1.7000000000000028, -0.7000000000000028, -0.7000000000000028, 0.29999999999999716, 0.29999999999999716, 0.29999999999999716, 0.29999999999999716, 1.2999999999999972, 2.299999999999997, 2.299999999999997, 3.299999999999997, 4.299999999999997, 4.299999999999997, 6.299999999999997, 6.299999999999997, 7.299999999999997, 7.299999999999997, 7.299999999999997, 8.299999999999997, 8.299999999999997, 8.299999999999997, 9.299999999999997, 9.299999999999997, 9.299999999999997, 9.299999999999997, 9.299999999999997, 9.299999999999997, 10.299999999999997, 10.299999999999997, 10.299999999999997, 11.299999999999997, 11.299999999999997, 12.299999999999997, 13.299999999999997, 13.299999999999997, 13.299999999999997, 13.299999999999997, 13.299999999999997, 14.299999999999997, 14.299999999999997, 14.299999999999997, 14.299999999999997, 15.299999999999997, 16.299999999999997, 16.299999999999997, 17.299999999999997, 22.299999999999997, 23.299999999999997, 23.299999999999997, 24.299999999999997, 26.299999999999997, 26.299999999999997, 33.3, 34.3, 42.3, 49.3, 54.3]\n"
     ]
    }
   ],
   "source": [
    "def de_mean(x):\n",
    "    x_bar = mean(x)\n",
    "    return [xi - x_bar for xi in x] # subtracting the mean from each element of x so that result has 0 mean\n",
    "print(\"The mean is: \", mean(num_friends))\n",
    "print(sorted(de_mean(num_friends)))"
   ]
  },
  {
   "cell_type": "code",
   "execution_count": 30,
   "id": "46eb3993",
   "metadata": {},
   "outputs": [
    {
     "data": {
      "text/plain": [
       "354.57575757575756"
      ]
     },
     "execution_count": 30,
     "metadata": {},
     "output_type": "execute_result"
    }
   ],
   "source": [
    "def sum_of_squares(x):\n",
    "    return sum([xi**2 for xi in x])\n",
    "\n",
    "def variance(x):\n",
    "    n = len(x)\n",
    "    deviations = de_mean(x)\n",
    "    return sum_of_squares(deviations) / (n-1)\n",
    "\n",
    "variance(num_friends)"
   ]
  },
  {
   "cell_type": "markdown",
   "id": "80b733b3",
   "metadata": {},
   "source": [
    "**Standard deviation**"
   ]
  },
  {
   "cell_type": "code",
   "execution_count": 31,
   "id": "67c3a85d",
   "metadata": {},
   "outputs": [
    {
     "data": {
      "text/plain": [
       "18.830182090881586"
      ]
     },
     "execution_count": 31,
     "metadata": {},
     "output_type": "execute_result"
    }
   ],
   "source": [
    "import math\n",
    "\n",
    "def standard_deviation(x):\n",
    "    return math.sqrt(variance(x))\n",
    "\n",
    "standard_deviation(num_friends)"
   ]
  },
  {
   "cell_type": "markdown",
   "id": "3ca45466",
   "metadata": {},
   "source": [
    "**If our friendliest user had instead 200 friends, the standard deviation would be 14.89, more than 60% higher!**\n",
    "\n",
    "A more robust alternative computes the difference between 75th and 25th percentile (interquartile range)"
   ]
  },
  {
   "cell_type": "code",
   "execution_count": 32,
   "id": "ecfc5634",
   "metadata": {},
   "outputs": [
    {
     "data": {
      "text/plain": [
       "26"
      ]
     },
     "execution_count": 32,
     "metadata": {},
     "output_type": "execute_result"
    }
   ],
   "source": [
    "def interquartile_range(x):\n",
    "    return quantile(x, 0.75) - quantile(x, 0.25)\n",
    "\n",
    "interquartile_range(num_friends)"
   ]
  },
  {
   "cell_type": "markdown",
   "id": "fad4e50c",
   "metadata": {},
   "source": [
    "Mean, range, variance and standard deviation are impacted by the magnitude of the data points."
   ]
  },
  {
   "cell_type": "markdown",
   "id": "84f52d6d",
   "metadata": {},
   "source": [
    "## Correlation\n",
    "\n",
    "Whereas variance measures how a single variable deviates from its mean, covariance measures how two variables vary in tandem from their means."
   ]
  },
  {
   "cell_type": "code",
   "execution_count": 33,
   "id": "63ae39b4",
   "metadata": {},
   "outputs": [
    {
     "data": {
      "text/plain": [
       "34.046464646464635"
      ]
     },
     "execution_count": 33,
     "metadata": {},
     "output_type": "execute_result"
    }
   ],
   "source": [
    "def dot(v, w):\n",
    "    return sum(v * w for v, w in zip(v, w))\n",
    "\n",
    "def covariance(x, y):\n",
    "    n = len(x)\n",
    "    return dot(de_mean(x), de_mean(y)) / (n - 1)\n",
    "\n",
    "daily_minutes = [10, 32, 85, 51, 89, 122, 89, 108, 39, 107, 44, 115, 44, 43, 103, 83, 131, 103,\n",
    " 119, 10, 106, 78, 105, 126, 92, 63, 60, 47, 102, 36, 57, 34, 99, 105, 105, 105,\n",
    " 60, 79, 116, 113, 117, 101, 123, 38, 200, 65, 142, 163, 91, 53, 95, 41, 64, 96,\n",
    " 80, 106, 73, 103, 68, 118, 125, 60, 47, 59, 81, 98, 55, 150, 90, 119, 89, 126,\n",
    " 85, 76, 130, 98, 72, 134, 142, 162, 89, 109, 32, 98, 92, 62, 95, 87, 47, 44, 111,\n",
    " 79, 41, 33, 126, 63, 91, 79, 154, 200]\n",
    "\n",
    "covariance(num_friends, daily_minutes)"
   ]
  },
  {
   "cell_type": "markdown",
   "id": "956c60ae",
   "metadata": {},
   "source": [
    "Recall that dot sums up the products of corresponding pairs of elements. When corresponding elements of x and y are either both above their means or both below their means, a positive number enters the sum. When one is above its mean and the other below, a negative number enters the sum. Accordingly, a “large” positive covariance means that x tends to be large when y is large and small when y is small. A “large” negative covariance means the opposite—that x tends to be small when y is large and vice versa. A covariance close to zero means that no such relationship exists.\n",
    "\n",
    "Covariance is hard to interpret because:\n",
    "1. It's units are a product of the inputs (x and y) which might not make sense in every case.\n",
    "2. If each user had twice as many friends (but the same number of minutes), the covariance would be twice as large. But in a sense the variables would be just as interrelated. Said differently, it’s hard to say what counts as a “large” covariance.\n",
    "\n",
    "The statement about covariance can be broken down into several key points to better understand its meaning:\n",
    "\n",
    "- Covariance Measures Linear Relationship: Covariance is a statistical measure that indicates the extent to which two variables change together. A positive covariance means that as one variable increases, the other tends to increase as well, and vice versa for a negative covariance.\n",
    "\n",
    "- Scaling Effect on Covariance: When the statement says, \"If each user had twice as many friends (but the same number of minutes), the covariance would be twice as large,\" it highlights that covariance is sensitive to the scale of the variables. If you multiply one of the variables by a constant factor (e.g., doubling the number of friends), the covariance also changes by that factor. Mathematically, if \n",
    "\n",
    "1. 𝑋 is the number of friends and \n",
    "2. 𝑌 is the number of minutes spent, and we scale \n",
    "3. 𝑋 by 2 (i.e., 𝑋′ = 2𝑋), then the new covariance Cov(𝑋′, 𝑌) = 2Cov(𝑋, 𝑌)\n",
    "\n",
    "Interrelatedness of Variables: The statement \"But in a sense the variables would be just as interrelated\" means that despite the change in scale, the underlying relationship between the variables remains the same. The doubling of friends does not change how the number of friends and minutes are related to each other; it only changes the magnitude of the covariance.\n",
    "\n",
    "Relative Nature of Covariance: \"It’s hard to say what counts as a 'large' covariance\" points out that the absolute value of covariance is not inherently meaningful without context. Since covariance depends on the units and scales of the variables, a \"large\" covariance in one context might not be large in another. For instance, doubling the number of friends increases the covariance, but this doesn't imply a stronger relationship between the variables—only that the scale has changed."
   ]
  },
  {
   "cell_type": "code",
   "execution_count": 34,
   "id": "288a8b17",
   "metadata": {},
   "outputs": [
    {
     "data": {
      "text/plain": [
       "0.04866567119567395"
      ]
     },
     "execution_count": 34,
     "metadata": {},
     "output_type": "execute_result"
    }
   ],
   "source": [
    "# Correlation\n",
    "\n",
    "def correlation(x, y):\n",
    "    stdev_x = standard_deviation(x)\n",
    "    stdev_y = standard_deviation(y)\n",
    "    if stdev_x > 0 and stdev_y > 0:\n",
    "        return covariance(x, y)/ stdev_x / stdev_y\n",
    "    else:\n",
    "        return 0\n",
    "    \n",
    "correlation(num_friends, daily_minutes)"
   ]
  },
  {
   "cell_type": "markdown",
   "id": "8c486565",
   "metadata": {},
   "source": [
    "The correlation is unitless and always lies between -1 (perfect anti-correlation) and 1 (perfect correlation). Correlation can be very sensitive to outliers."
   ]
  },
  {
   "cell_type": "code",
   "execution_count": 37,
   "id": "dc72c8c1",
   "metadata": {},
   "outputs": [
    {
     "data": {
      "text/plain": [
       "-0.04318484489532695"
      ]
     },
     "execution_count": 37,
     "metadata": {},
     "output_type": "execute_result"
    }
   ],
   "source": [
    "outlier = num_friends.index(100)\n",
    "num_friends_good = [x for i, x in enumerate(num_friends) if i != outlier]\n",
    "daily_minutes_good = [x for i, x in enumerate(daily_minutes) if i != outlier]\n",
    "\n",
    "correlation(num_friends_good, daily_minutes_good)"
   ]
  },
  {
   "cell_type": "code",
   "execution_count": 42,
   "id": "d8ebb696",
   "metadata": {},
   "outputs": [
    {
     "data": {
      "image/png": "[encoded data removed]",
      "text/plain": [
       "<Figure size 640x480 with 1 Axes>"
      ]
     },
     "metadata": {},
     "output_type": "display_data"
    }
   ],
   "source": [
    "plt.scatter(num_friends, daily_minutes)\n",
    "plt.xlabel(\"# of friends\")\n",
    "plt.ylabel(\"minutes per day\")\n",
    "plt.title(\"Correlation before removing the outlier\")\n",
    "plt.show()"
   ]
  },
  {
   "cell_type": "code",
   "execution_count": 41,
   "id": "6bdbf288",
   "metadata": {},
   "outputs": [
    {
     "data": {
      "image/png": "[encoded data removed]",
      "text/plain": [
       "<Figure size 640x480 with 1 Axes>"
      ]
     },
     "metadata": {},
     "output_type": "display_data"
    }
   ],
   "source": [
    "plt.scatter(num_friends_good, daily_minutes_good)\n",
    "plt.xlabel(\"# of friends\")\n",
    "plt.ylabel(\"minutes per day\")\n",
    "plt.title(\"Correlation after removing the outlier\")\n",
    "plt.show()"
   ]
  },
  {
   "cell_type": "markdown",
   "id": "dc00684c",
   "metadata": {},
   "source": [
    "Correlation looks at whether there is a consistent relationship between the deviations. Specifically, it examines whether:\n",
    "\n",
    "- When 𝑥𝑖​  is above the mean of 𝑥 (i.e., 𝑥𝑖 − mean(𝑥) > 0, 𝑦𝑖​  also tends to be above the mean of 𝑦 (i.e. 𝑦𝑖 − mean(𝑦) > 0)\n",
    "- When 𝑥𝑖​  is below the mean of 𝑥 (i.e., 𝑥𝑖 − mean(𝑥) < 0, 𝑦𝑖​  also tends to be below the mean of 𝑦 (i.e. 𝑦𝑖 − mean(𝑦) < 0) \n",
    "\n",
    "If this pattern holds consistently, then 𝑥 and 𝑦 are positively correlated. If the opposite pattern holds (i.e., when 𝑥𝑖​ is above the mean of 𝑥, 𝑦𝑖​ is below the mean of 𝑦, and vice versa), then 𝑥 and 𝑦 are negatively correlated."
   ]
  },
  {
   "cell_type": "markdown",
   "id": "bbb1e1ea",
   "metadata": {},
   "source": [
    "Correlation is quantitatively measured by the Pearson correlation coefficient, 𝑟, which is defined as:\n",
    "\n",
    "$𝑟 = {\\sum (𝑥𝑖 − mean(𝑥))(𝑦𝑖 − mean(𝑦)) \\over \\sqrt{\\sum (𝑥𝑖 − mean(𝑥))^2 \\sum (𝑦𝑖 − mean(𝑦))^2}}$\n",
    "\n",
    "Here’s what this formula tells us:\n",
    "\n",
    "- The numerator, , sums the products of the deviations of 𝑥 and 𝑦. This captures whether 𝑥 and 𝑦 tend to move together (positive correlation) or in opposite directions (negative correlation).\n",
    "\n",
    "- The denominator normalizes this sum by the product of the standard deviations of 𝑥 and 𝑦, ensuring that 𝑟 is dimensionless and ranges between -1 and 1."
   ]
  },
  {
   "cell_type": "markdown",
   "id": "2c301b9a",
   "metadata": {},
   "source": [
    "## Simpson's Paradox\n",
    "\n",
    "**Correlations can be misleading when confounding variables are ignored.**\n",
    "\n",
    "Simpson's Paradox illustrates the complexity of interpreting statistical data and the potential for misleading conclusions when aggregating data without considering underlying group structures and confounding variables. It emphasizes the need for careful analysis and a deep understanding of the data to uncover true relationships.\n",
    "\n",
    "Example: Ice Cream Sales and Drowning Incidents\n",
    "\n",
    "- Scenario: It has been observed that there is a positive correlation between ice cream sales and drowning incidents.\n",
    "\n",
    "- Misleading Interpretation: One might hastily conclude that eating ice cream causes drowning.\n",
    "\n",
    "- Confounding Variable: The confounding variable here is the temperature. During the summer months, higher temperatures lead to more people buying ice cream and also more people swimming, which increases the risk of drowning incidents.\n",
    "\n",
    "- Correct Understanding: Both ice cream sales and drowning incidents are related to the weather (temperature), not to each other directly."
   ]
  }
 ],
 "metadata": {
  "kernelspec": {
   "display_name": "Python 3 (ipykernel)",
   "language": "python",
   "name": "python3"
  },
  "language_info": {
   "codemirror_mode": {
    "name": "ipython",
    "version": 3
   },
   "file_extension": ".py",
   "mimetype": "text/x-python",
   "name": "python",
   "nbconvert_exporter": "python",
   "pygments_lexer": "ipython3",
   "version": "3.11.5"
  }
 },
 "nbformat": 4,
 "nbformat_minor": 5
}
