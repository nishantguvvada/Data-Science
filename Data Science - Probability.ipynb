{
 "cells": [
  {
   "cell_type": "markdown",
   "id": "7794d204",
   "metadata": {},
   "source": [
    "# Probability"
   ]
  },
  {
   "cell_type": "markdown",
   "id": "9510451b",
   "metadata": {},
   "source": [
    "#### Introduction\n",
    "\n",
    "- Probability : a way of quantifying the uncertainty associated with events chosen from some universe of events.\n",
    "- Universe consists of all possible outcomes. And any subset of these outcomes is an event. Example: the die rolls a one or a die rolls an even number are examples of an event in an experiment of rolling a die.\n",
    "- P(E) : The probability of the event E."
   ]
  },
  {
   "cell_type": "markdown",
   "id": "bc936f08",
   "metadata": {},
   "source": [
    "#### Dependence and Independence\n",
    "\n",
    "Two events E and F are dependent if knowing whether E happens gives us information about whether F happens. (Probability of the first event gives information about probability of the second event). Else, E and F are independent.\n",
    "\n",
    "Example:\n",
    "\n",
    "1. Independent Events : E = \"Heads on first flip\" gives us NO INFORMATION about F = \"Heads on second flip\" or not.\n",
    "2. Dependent Events : E = \"Heads on first flip\" gives us information about F = \"Both flips are Tails\" or not.\n",
    "\n",
    "Mathematically, two events E and F are independent if probability that E and F both happen P(E,F) is the product of probabilities that each one happens.\n",
    "\n",
    "$P(E,F) = P(E).P(F)$"
   ]
  },
  {
   "cell_type": "markdown",
   "id": "524a589d",
   "metadata": {},
   "source": [
    "#### Conditional Probability\n",
    "\n",
    "If two events E and F are NOT independent and probability of F is not zero, probability of E conditional on F is given by:\n",
    "\n",
    "$P(E|F) = P(E,F) / P(F)$\n",
    "\n",
    "P(E|F) denotes probability that E happens, given that we know that F happens.\n",
    "\n",
    "Rewriting the conditional probability equation :\n",
    "\n",
    "$P(E,F) = P(E|F).P(F)$\n",
    "\n",
    "If E and F are independent events:\n",
    "\n",
    "$P(E|F) = P(E)$ which is the mathematical way of expressing that knowing F occurred gives us no\n",
    "additional information about whether E occurred."
   ]
  },
  {
   "cell_type": "code",
   "execution_count": 4,
   "id": "c4b2f435",
   "metadata": {},
   "outputs": [
    {
     "name": "stdout",
     "output_type": "stream",
     "text": [
      "P(both | older): 0.4959016393442623\n"
     ]
    }
   ],
   "source": [
    "import random\n",
    "\n",
    "def random_kid():\n",
    "    return random.choice([\"boy\",\"girl\"])\n",
    "\n",
    "both_girls = 0\n",
    "older_girls = 0\n",
    "either_girls = 0\n",
    "\n",
    "for _ in range(1000):\n",
    "    younger = random_kid()\n",
    "    older = random_kid()\n",
    "    if older == \"girl\":\n",
    "        older_girls += 1\n",
    "    if older == \"girl\" and younger == \"girl\":\n",
    "        both_girls += 1\n",
    "    if older == \"girl\" or younger == \"girl\":\n",
    "        either_girls += 1\n",
    "        \n",
    "print(\"P(both | older):\", both_girls / older_girls)"
   ]
  },
  {
   "cell_type": "markdown",
   "id": "3d14887d",
   "metadata": {},
   "source": [
    "#### Bayes's Therorem\n",
    "\n",
    "$P(E|F) = P(E,F)/P(F) = P(F|E).P(E)/P(F)$\n",
    "\n",
    "$P(E|F).P(F) = P(F|E).P(E)$"
   ]
  },
  {
   "cell_type": "markdown",
   "id": "4d9356d8",
   "metadata": {},
   "source": [
    "#### Random Variables\n",
    "\n",
    "A random variable is a variable whose possible values have an associated probability distribution.\n",
    "\n",
    "Example: The range(10) variable has a distribution that assigns probability 0.1 to each of the numbers from 0 to 9.\n",
    "\n",
    "Expected Value of a random variable: the average of random variable's values weighted by their probabilities.\n",
    "\n",
    "Example : The coin flip variable has an expected value of 1/2 (= 0 * 1/2 + 1 * 1/2), and the range(10) variable has an expected value of 4.5."
   ]
  },
  {
   "cell_type": "markdown",
   "id": "241f0fe2",
   "metadata": {},
   "source": [
    "#### Continuous Distributions\n",
    "\n",
    "We represent a continuous distribution with a probability density function (pdf) such that the probability of seeing a value in a certain interval equals the integral of the density function over the interval.\n",
    "\n",
    "Python’s random.random() is a [pseudo] random variable with a uniform density."
   ]
  },
  {
   "cell_type": "code",
   "execution_count": 5,
   "id": "2137985d",
   "metadata": {},
   "outputs": [],
   "source": [
    "def uniform_pdf(x):\n",
    "    return 1 if x >= 0 and x < 1 else 0"
   ]
  },
  {
   "cell_type": "markdown",
   "id": "46b5cf66",
   "metadata": {},
   "source": [
    "A cumulative distribution function (cdf), which gives the probability that a random variable is less than or equal to a certain value"
   ]
  },
  {
   "cell_type": "code",
   "execution_count": 6,
   "id": "604e62b3",
   "metadata": {},
   "outputs": [],
   "source": [
    "def uniform_cdf(x):\n",
    "    if x < 0: return 0\n",
    "    elif x < 1: return x\n",
    "    else: return 1"
   ]
  },
  {
   "cell_type": "code",
   "execution_count": null,
   "id": "44e0d4e8",
   "metadata": {},
   "outputs": [],
   "source": []
  },
  {
   "cell_type": "code",
   "execution_count": null,
   "id": "4359197c",
   "metadata": {},
   "outputs": [],
   "source": []
  }
 ],
 "metadata": {
  "kernelspec": {
   "display_name": "Python 3 (ipykernel)",
   "language": "python",
   "name": "python3"
  },
  "language_info": {
   "codemirror_mode": {
    "name": "ipython",
    "version": 3
   },
   "file_extension": ".py",
   "mimetype": "text/x-python",
   "name": "python",
   "nbconvert_exporter": "python",
   "pygments_lexer": "ipython3",
   "version": "3.11.5"
  }
 },
 "nbformat": 4,
 "nbformat_minor": 5
}
