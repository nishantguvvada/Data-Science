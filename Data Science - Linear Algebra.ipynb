{
 "cells": [
  {
   "cell_type": "markdown",
   "id": "2f52dfa2",
   "metadata": {},
   "source": [
    "# Data Science - Linear Algebra\n",
    "\n",
    "Lniear Algebra is the branch of mathematics that deals with vector spaces."
   ]
  },
  {
   "cell_type": "markdown",
   "id": "b453f976",
   "metadata": {},
   "source": [
    "Vectors are objects that can be added together to form new vectors, multiplied by scalars, to form new vectors. **Vectors are points in some finite-dimensional space.**\n",
    "\n",
    "For example, if you have the heights, weights, and ages of a large number of people, you can treat your data as three-dimensional vectors (height, weight, age). If you’re teaching a class with four exams, you can treat student grades as four dimensional vectors (exam1, exam2, exam3, exam4)."
   ]
  },
  {
   "cell_type": "code",
   "execution_count": null,
   "id": "beaf04f2",
   "metadata": {},
   "outputs": [],
   "source": [
    "# vector in three-dimensional space\n",
    "\n",
    "height_weight_age = [70, 170, 40] # [inches, pounds, years]"
   ]
  },
  {
   "cell_type": "markdown",
   "id": "45437e64",
   "metadata": {},
   "source": [
    "### Vectors add  component-wise\n",
    "\n",
    "(If two vectors are not the same length, then we’re not allowed to add them.)"
   ]
  },
  {
   "cell_type": "code",
   "execution_count": 1,
   "id": "7cdeb7be",
   "metadata": {},
   "outputs": [],
   "source": [
    "def vector_add(v, w):\n",
    "    return [vi + wi for vi, wi in zip(v,w)]\n",
    "\n",
    "def vector_subtract(v, w):\n",
    "    return [vi - wi for vi, wi in zip(v,w)]"
   ]
  },
  {
   "cell_type": "code",
   "execution_count": null,
   "id": "2bbbb2d4",
   "metadata": {},
   "outputs": [],
   "source": [
    "# create a new vector whose first element is the sum of all the first elements, \n",
    "# whose second element is the sum of all the second elements, and so on.\n",
    "\n",
    "def vector_sum(vectors):\n",
    "    result = vectors[0] # start with the first vector\n",
    "    for vector in vectors:\n",
    "        result = vector_add(result, vector)\n",
    "    return result\n",
    "\n",
    "def vector_sum(vectors):\n",
    "    return reduce(vector_add, vectors)\n",
    "\n",
    "vector_sum = partial(reduce, vector_add)"
   ]
  },
  {
   "cell_type": "markdown",
   "id": "0351da4a",
   "metadata": {},
   "source": [
    "**The reduce(fun,seq) function is used to apply a particular function passed in its argument to all of the list elements mentioned in the sequence passed along.** [source](https://www.geeksforgeeks.org/reduce-in-python/)"
   ]
  },
  {
   "cell_type": "code",
   "execution_count": 2,
   "id": "f5c00a7f",
   "metadata": {},
   "outputs": [],
   "source": [
    "def scalar_multiply(c, v):\n",
    "    return [c * vi for vi in v]\n",
    "\n",
    "def vector_mean(vectors):\n",
    "    n = len(vectors)\n",
    "    return scalar_multiply(1/n, vector_sum(vectors))"
   ]
  },
  {
   "cell_type": "markdown",
   "id": "0f7a717b",
   "metadata": {},
   "source": [
    "**Dot product of two vectors is the sum of their component-wise products**"
   ]
  },
  {
   "cell_type": "code",
   "execution_count": 3,
   "id": "91976ded",
   "metadata": {},
   "outputs": [],
   "source": [
    "def dot(v, w):\n",
    "    return sum(vi * wi for vi, wi in zip(v, w))\n",
    "\n",
    "def sum_of_squares(v):\n",
    "    return dot(v, w)\n",
    "\n",
    "import math\n",
    "\n",
    "def magnitude(v):\n",
    "    return math.sqrt(sum_of_squares(v))\n",
    "\n",
    "def squared_distance(v, w):\n",
    "    return sum_of_squares(vector_subtract(v, w))\n",
    "\n",
    "def distance(v, w):\n",
    "    return math.sqrt(squared_distance(v, w))"
   ]
  },
  {
   "cell_type": "markdown",
   "id": "7f71ec74",
   "metadata": {},
   "source": [
    "Using lists as vectors is great for exposition but terrible for performance.\n",
    "\n",
    "In production code, you would want to use the NumPy library, which includes a high-performance array class with all sorts of arithmetic operations included."
   ]
  },
  {
   "cell_type": "markdown",
   "id": "6da7c9ac",
   "metadata": {},
   "source": [
    "## Matrices\n",
    "\n",
    "A matrix is a two-dimensional collection of numbers. **We will represent matrics as lists of lists, with each inner list having the same size and representing a row of the matrix.**"
   ]
  },
  {
   "cell_type": "code",
   "execution_count": 4,
   "id": "f1d03f95",
   "metadata": {},
   "outputs": [],
   "source": [
    "A = [[1,2,3],[4,5,6]] # A has 2 rows and 3 columns\n",
    "B = [[1,2],[3,4],[5,6]] # B has 3 rows and 2 columns"
   ]
  },
  {
   "cell_type": "code",
   "execution_count": 5,
   "id": "047b3b77",
   "metadata": {},
   "outputs": [],
   "source": [
    "def shape(A):\n",
    "    num_rows = len(A)\n",
    "    num_cols = len(A[0]) if A else 0\n",
    "    return num_rows, num_cols"
   ]
  },
  {
   "cell_type": "code",
   "execution_count": 10,
   "id": "5aa2a5e8",
   "metadata": {},
   "outputs": [],
   "source": [
    "def get_row(A, i):\n",
    "    return A[i]\n",
    "\n",
    "def get_column(A, j):\n",
    "    return [A_i[j] for A_i in A]"
   ]
  },
  {
   "cell_type": "code",
   "execution_count": 11,
   "id": "f3c3f897",
   "metadata": {},
   "outputs": [],
   "source": [
    "def make_matrix(num_rows, num_cols, entry_fn):\n",
    "    return [[entry_fn(i,j) for j in range(num_cols)] for i in range(num_rows)]\n",
    "\n",
    "def is_diagonal(i, j):\n",
    "    return 1 if i == j else 0"
   ]
  },
  {
   "cell_type": "code",
   "execution_count": 12,
   "id": "cd2a5760",
   "metadata": {},
   "outputs": [
    {
     "name": "stdout",
     "output_type": "stream",
     "text": [
      "[[1, 0, 0, 0], [0, 1, 0, 0], [0, 0, 1, 0], [0, 0, 0, 1]]\n"
     ]
    }
   ],
   "source": [
    "identity_matrix = make_matrix(4, 4, is_diagonal)\n",
    "print(identity_matrix)"
   ]
  },
  {
   "cell_type": "markdown",
   "id": "3afea9f5",
   "metadata": {},
   "source": [
    "Matrics will be important because:\n",
    "\n",
    "1. use matrix to represent dataset consisting of multiple vectors by considering each vector as a row of the matrix.\n",
    "2. use n x k matrix to represent a linear function that maps k-dimensional vectors to n-dimensional vectors.\n",
    "3. use matrix to represent binary relationships"
   ]
  },
  {
   "cell_type": "code",
   "execution_count": 13,
   "id": "6ffde50c",
   "metadata": {},
   "outputs": [],
   "source": [
    "friendships = [(0, 1), (0, 2), (1, 2), (1, 3), (2, 3), (3, 4), (4, 5), (5, 6), (5, 7), (6, 8), (7, 8), (8, 9)]\n",
    "\n",
    "# can be represented as \n",
    "\n",
    "          # user 0  1  2  3  4  5  6  7  8  9\n",
    "\n",
    "friendships =  [[0, 1, 1, 0, 0, 0, 0, 0, 0, 0], # user 0\n",
    "                [1, 0, 1, 1, 0, 0, 0, 0, 0, 0], # user 1\n",
    "                [1, 1, 0, 1, 0, 0, 0, 0, 0, 0], # user 2\n",
    "                [0, 1, 1, 0, 1, 0, 0, 0, 0, 0], # user 3\n",
    "                [0, 0, 0, 1, 0, 1, 0, 0, 0, 0], # user 4\n",
    "                [0, 0, 0, 0, 1, 0, 1, 1, 0, 0], # user 5\n",
    "                [0, 0, 0, 0, 0, 1, 0, 0, 1, 0], # user 6\n",
    "                [0, 0, 0, 0, 0, 1, 0, 0, 1, 0], # user 7\n",
    "                [0, 0, 0, 0, 0, 0, 1, 1, 0, 1], # user 8\n",
    "                [0, 0, 0, 0, 0, 0, 0, 0, 1, 0]] # user 9"
   ]
  },
  {
   "cell_type": "code",
   "execution_count": 15,
   "id": "8418d922",
   "metadata": {},
   "outputs": [
    {
     "data": {
      "text/plain": [
       "[4, 6, 7]"
      ]
     },
     "execution_count": 15,
     "metadata": {},
     "output_type": "execute_result"
    }
   ],
   "source": [
    "[i for i, is_friend in enumerate(friendships[5]) if is_friend]"
   ]
  }
 ],
 "metadata": {
  "kernelspec": {
   "display_name": "Python 3 (ipykernel)",
   "language": "python",
   "name": "python3"
  },
  "language_info": {
   "codemirror_mode": {
    "name": "ipython",
    "version": 3
   },
   "file_extension": ".py",
   "mimetype": "text/x-python",
   "name": "python",
   "nbconvert_exporter": "python",
   "pygments_lexer": "ipython3",
   "version": "3.11.5"
  }
 },
 "nbformat": 4,
 "nbformat_minor": 5
}
